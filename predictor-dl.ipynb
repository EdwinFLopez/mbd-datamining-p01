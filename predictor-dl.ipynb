{
 "cells": [
  {
   "metadata": {},
   "cell_type": "markdown",
   "source": "# Análisis Espectral de Sonidos de Pájaros Europeos"
  },
  {
   "metadata": {},
   "cell_type": "code",
   "source": [
    "#Imports Globales\n",
    "\n",
    "import os\n",
    "import h5py\n",
    "import matplotlib.pyplot as plt\n",
    "import numpy as np\n",
    "import pandas as pd\n",
    "import seaborn as sns\n",
    "import tensorflow as tf\n",
    "from sklearn.metrics import f1_score, confusion_matrix\n",
    "from sklearn.preprocessing import LabelEncoder\n",
    "from tensorflow.keras import layers, models\n",
    "\n",
    "# Funciones Globales.\n",
    "def count_files_in_subfolders(main_folder):\n",
    "    sfcounts = {}\n",
    "    # root is the current directory path\n",
    "    # dirs is a list of subdirectories in the current directory\n",
    "    # files is a list of files in the current directory\n",
    "    for root, dirs, files in os.walk(main_folder):\n",
    "        # Count only in subfolders, not in the main folder itself\n",
    "        if root != main_folder:\n",
    "            h5_files = [file for file in files if file.endswith(\".h5\")]\n",
    "            subfolder_name = os.path.basename(root)\n",
    "            sfcounts[subfolder_name] = len(h5_files)\n",
    "    return sfcounts\n",
    "\n",
    "def plot_histogram(sub_folder_counts):\n",
    "    # Extract counts and subfolder names\n",
    "    sorted_subfolders = sorted(sub_folder_counts.items(), key=lambda x: x[1], reverse=True)\n",
    "\n",
    "    # Extract counts and subfolder names after sorting\n",
    "    counts = [count for subfolder, count in sorted_subfolders]\n",
    "    subfolders = [subfolder for subfolder, count in sorted_subfolders]\n",
    "\n",
    "    # Plot histogram\n",
    "    plt.figure(figsize=(8, 6))\n",
    "    bars = plt.bar(subfolders, counts, color='mediumturquoise', edgecolor='lightseagreen')\n",
    "    plt.xlabel('Bird Names')\n",
    "    plt.ylabel('Number of Spectograms')\n",
    "    plt.title('Number of Spectograms of Birds', weight='bold')\n",
    "    plt.xticks(rotation=45, ha='right')\n",
    "\n",
    "    # Add counts above each bar\n",
    "    for bar, count in zip(bars, counts):\n",
    "        plt.text(bar.get_x() + bar.get_width() / 2, bar.get_height(), str(count),\n",
    "                 ha='center', va='bottom')\n",
    "    plt.tight_layout()\n",
    "    plt.show()"
   ],
   "outputs": [],
   "execution_count": null
  },
  {
   "cell_type": "markdown",
   "metadata": {},
   "source": "## Counting number of spectograms for each bird name"
  },
  {
   "cell_type": "code",
   "metadata": {},
   "source": [
    "# Ruta a los espectrogramas convertidos a hdf5\n",
    "main_folder_path = os.path.abspath(\"./data/spects_h5\")\n",
    "\n",
    "# Conteo de archivos por tipo de pájaro\n",
    "subfolder_counts = count_files_in_subfolders(main_folder_path)\n",
    "\n",
    "# Histograma de distribución de muestras\n",
    "plot_histogram(subfolder_counts)"
   ],
   "outputs": [],
   "execution_count": null
  },
  {
   "cell_type": "code",
   "metadata": {},
   "source": [
    "# Cargar los espectrogramas & labels\n",
    "spectrograms_folder = os.path.abspath(\"./data/spectrograms\")\n",
    "bird_folders = [folder for folder in os.listdir(spectrograms_folder) if not os.path.isfile(folder)]\n",
    "print(bird_folders)\n",
    "\n",
    "# Crear un archivo h5 para agrupar los espectrogramas por nombre de audio\n",
    "with h5py.File(os.path.abspath(\"./data/spectrograms.h5\"), \"w\") as hf:\n",
    "    for bird_folder in bird_folders:\n",
    "        bird_name = bird_folder.split(\"_\")[0]  # Obtener el nombre del pájaro\n",
    "        spectogram_files = os.listdir(os.path.join(spectrograms_folder, bird_folder))\n",
    "        for spectogram_file in spectogram_files:\n",
    "            if spectogram_file.endswith(\".npy\"):\n",
    "                audio_name = spectogram_file.split(\"_\")[0]\n",
    "                if audio_name not in hf:\n",
    "                    audio_group = hf.create_group(audio_name)\n",
    "                    # Agregar el nombre del pájaro al grupo del audio\n",
    "                    audio_group.attrs[\"bird\"] = bird_name\n",
    "                spectogram_path = os.path.join(spectrograms_folder, bird_folder, spectogram_file)\n",
    "                spectogram = np.load(spectogram_path)\n",
    "                hf[audio_name].create_dataset(spectogram_file, data=spectogram)\n",
    "                \n",
    "# Open the h5 file\n",
    "audio_names = []\n",
    "with h5py.File(os.path.abspath(\"./data/spectrograms.h5\")) as hf:\n",
    "    # Get the keys of the groups (audio names)\n",
    "    audio_names = list(hf.keys())\n",
    "\n",
    "print(audio_names)"
   ],
   "outputs": [],
   "execution_count": null
  },
  {
   "cell_type": "code",
   "metadata": {},
   "source": [
    "# Empty list to store the name of each group and bird name\n",
    "bird_info = []\n",
    "# Leer el archivo H5 existente\n",
    "with h5py.File(os.path.abspath(\"./data/spectrograms.h5\")) as hf:\n",
    "    for audio_name in hf.keys():\n",
    "        bird_name = hf[audio_name].attrs[\"bird\"]\n",
    "        bird_info.append([audio_name, bird_name])\n",
    "\n",
    "print(bird_info)"
   ],
   "outputs": [],
   "execution_count": null
  },
  {
   "cell_type": "code",
   "metadata": {},
   "source": [
    "from collections import defaultdict\n",
    "\n",
    "audios_per_bird = defaultdict(list)\n",
    "for audio in bird_info:\n",
    "    bird_name = audio[1]\n",
    "    audios_per_bird[bird_name].append(audio[0])\n",
    "\n",
    "train_audio_names = []\n",
    "test_audio_names = []\n",
    "\n",
    "for bird, audios in audios_per_bird.items():\n",
    "    num_audios = len(audios)\n",
    "    num_train = int(0.7 * num_audios)\n",
    "\n",
    "    train_audio_names.extend([audio for audio in audios[:num_train]])\n",
    "    test_audio_names.extend([audio for audio in audios[num_train:]])\n",
    "\n",
    "print(\"Training list:\")\n",
    "print(train_audio_names)\n",
    "\n",
    "print(\"Testing list:\")\n",
    "print(test_audio_names)"
   ],
   "outputs": [],
   "execution_count": null
  },
  {
   "cell_type": "code",
   "metadata": {},
   "source": [
    "# Create a new file h5 to store the data for training the model\n",
    "with (  h5py.File(os.path.abspath(\"./data/data_train.h5\"), \"w\") as hf_train,\n",
    "        h5py.File(os.path.abspath(\"./data/spectrograms.h5\")) as hf ):\n",
    "    # Create group \"X\" to store the spectograms\n",
    "    X_group = hf_train.create_group(\"X\")\n",
    "\n",
    "    # Create group \"y\" to store the names of the birds (labels)\n",
    "    y_group = hf_train.create_group(\"y\")\n",
    "\n",
    "    for audio_name in train_audio_names:\n",
    "        # get the name of the corresponding bird\n",
    "        bird_name = hf[audio_name].attrs[\"bird\"]\n",
    "\n",
    "        # read the spectograms of the audio\n",
    "        spectrogram_names = list(hf[audio_name].keys())\n",
    "\n",
    "        for spectrogram_name in spectrogram_names:\n",
    "            # Read the espectogram\n",
    "            spectrogram_data = hf[audio_name][spectrogram_name][...]\n",
    "            # Save the espectogram in group X\n",
    "            X_group.create_dataset(spectrogram_name, data=spectrogram_data)\n",
    "            # Save the name of the corresponding bird in th group Y\n",
    "            y_group.create_dataset(spectrogram_name, data=bird_name)\n",
    "            \n",
    "# create the LabelEncoder\n",
    "le = LabelEncoder()\n",
    "X_train = []\n",
    "y_train = []\n",
    "\n",
    "# Agrupamos espectrogramas\n",
    "with h5py.File(os.path.abspath(\"./data/data_train.h5\")) as hf_train:\n",
    "    # Access to a specific group\n",
    "    group_Xtrain = 'X'\n",
    "    group_ytrain = 'y'\n",
    "    groupXtrain = hf_train[group_Xtrain]\n",
    "    groupytrain = hf_train[group_ytrain]\n",
    "\n",
    "    # Apilamos espectrogramas y labels\n",
    "    for key in groupXtrain.keys():\n",
    "        spectogram = groupXtrain[key]\n",
    "        X_train.append(spectogram[()])\n",
    "\n",
    "    for key in groupytrain.keys():\n",
    "        bird = groupytrain[key]\n",
    "        y_train.append(bird[()])\n"
   ],
   "outputs": [],
   "execution_count": null
  },
  {
   "cell_type": "code",
   "metadata": {},
   "source": [
    "y_train = [data.decode('utf-8') for data in y_train]\n",
    "y_train"
   ],
   "outputs": [],
   "execution_count": null
  },
  {
   "cell_type": "code",
   "metadata": {},
   "source": [
    "print(len(X_train))\n",
    "print(X_train[0])\n",
    "print(len(y_train))\n",
    "print(y_train[0])\n",
    "\n",
    "# Encode the labels\n",
    "y_train = le.fit_transform(y_train)\n",
    "print(y_train)\n",
    "# Print the labels of the numeric values\n",
    "print(le.classes_)"
   ],
   "outputs": [],
   "execution_count": null
  },
  {
   "cell_type": "code",
   "metadata": {},
   "source": [
    "X_train = np.array(X_train)\n",
    "y_train = np.array(y_train)\n",
    "\n",
    "X_train = X_train / 255.0\n",
    "\n",
    "X_train = X_train.reshape((-1, 224, 224, 1))\n",
    "print(X_train.shape)"
   ],
   "outputs": [],
   "execution_count": null
  },
  {
   "cell_type": "code",
   "metadata": {},
   "source": [
    "print(y_train.shape)\n",
    "print(len(y_train))"
   ],
   "outputs": [],
   "execution_count": null
  },
  {
   "cell_type": "code",
   "metadata": {},
   "source": [
    "from keras.src.losses import SparseCategoricalCrossentropy\n",
    "\n",
    "# CNN model\n",
    "model = models.Sequential([\n",
    "    layers.Conv2D(32, (3, 3), activation='relu', input_shape=(224, 224, 1)),\n",
    "    layers.MaxPooling2D((2, 2)),\n",
    "    layers.Conv2D(64, (3, 3), activation='relu'),\n",
    "    layers.MaxPooling2D((2, 2)),\n",
    "    layers.Conv2D(128, (3, 3), activation='relu'),\n",
    "    layers.MaxPooling2D((2, 2)),\n",
    "    layers.Conv2D(256, (3, 3), activation='relu'),\n",
    "    layers.Dropout(0.5),\n",
    "    layers.Flatten(),\n",
    "    layers.Dense(64, activation='relu'),\n",
    "    layers.Dropout(0.5),\n",
    "    layers.Dense(20)    \n",
    "])\n",
    "\n",
    "# Compile the model\n",
    "model.compile(optimizer='adam', loss=SparseCategoricalCrossentropy(from_logits=True), metrics=['accuracy'])\n",
    "\n",
    "# Train the model\n",
    "model.fit(X_train, y_train, epochs=35)\n"
   ],
   "outputs": [],
   "execution_count": null
  },
  {
   "cell_type": "code",
   "metadata": {},
   "source": "model.save(os.path.abspath(\"./data/DL_model_birds.h5\"))",
   "outputs": [],
   "execution_count": null
  },
  {
   "cell_type": "code",
   "metadata": {},
   "source": [
    "from tensorflow.keras.models import load_model \n",
    "\n",
    "# Load the model\n",
    "loaded_model = load_model(os.path.abspath(\"./data/DL_model_birds.h5\"))"
   ],
   "outputs": [],
   "execution_count": null
  },
  {
   "cell_type": "markdown",
   "metadata": {},
   "source": "## Testing part: X_test, y_test"
  },
  {
   "cell_type": "code",
   "metadata": {},
   "source": [
    "# H5 file to store the testing data\n",
    "with (  h5py.File(os.path.abspath(\"./data/data_test.h5\"), \"w\") as hf_test, \n",
    "        h5py.File(os.path.abspath(\"./data/spectrograms.h5\")) as hf ):\n",
    "    # Group \"X\" to store the spectograms for testing\n",
    "    X_group = hf_test.create_group(\"X\")\n",
    "\n",
    "    #  Group \"X\" to store the labels for testing\n",
    "    y_group = hf_test.create_group(\"y\")\n",
    "\n",
    "    for audio_name in test_audio_names:\n",
    "        # Get the name of the corresponding bird of the audio\n",
    "        bird_name = hf[audio_name].attrs[\"bird\"]\n",
    "\n",
    "        # read the spectograms\n",
    "        spectrogram_names = list(hf[audio_name].keys())\n",
    "\n",
    "        for spectrogram_name in spectrogram_names:\n",
    "            # Read the spectograms\n",
    "            spectrogram_data = hf[audio_name][spectrogram_name][...]\n",
    "            # Save the spectogram in group \"X\"\n",
    "            X_group.create_dataset(spectrogram_name, data=spectrogram_data)\n",
    "            # Save the name of the corresponding bird in group \"y\"\n",
    "            y_group.create_dataset(spectrogram_name, data=bird_name)"
   ],
   "outputs": [],
   "execution_count": null
  },
  {
   "cell_type": "code",
   "metadata": {},
   "source": [
    "# LabelEncoder\n",
    "le = LabelEncoder()\n",
    "X_test = []\n",
    "y_test = []"
   ],
   "outputs": [],
   "execution_count": null
  },
  {
   "cell_type": "code",
   "metadata": {},
   "source": [
    "with h5py.File(os.path.abspath(\"./data/data_test.h5\")) as hf_test:\n",
    "    # Access to a specific group\n",
    "    group_Xtest = 'X'\n",
    "    group_ytest = 'y'\n",
    "    groupXtest = hf_test[group_Xtest]\n",
    "    groupytest = hf_test[group_ytest]\n",
    "\n",
    "    # Save spectograms and labels\n",
    "    for key in groupXtest.keys():\n",
    "        spectogram = groupXtest[key]\n",
    "        X_test.append(spectogram[()])\n",
    "\n",
    "    for key in groupytest.keys():\n",
    "        bird = groupytest[key]\n",
    "        y_test.append(bird[()])"
   ],
   "outputs": [],
   "execution_count": null
  },
  {
   "cell_type": "code",
   "metadata": {},
   "source": [
    "y_test = le.fit_transform(y_test)\n",
    "print(y_test)\n",
    "\n",
    "print(len(X_test))\n",
    "print(X_test[0])\n",
    "print(len(y_test))\n",
    "print(y_test[0])"
   ],
   "outputs": [],
   "execution_count": null
  },
  {
   "cell_type": "code",
   "metadata": {},
   "source": [
    "X_test = np.array(X_test)\n",
    "y_test = np.array(y_test)\n",
    "\n",
    "X_test = X_test / 255.0\n",
    "X_test = X_test.reshape((-1, 224, 224, 1))"
   ],
   "outputs": [],
   "execution_count": null
  },
  {
   "cell_type": "code",
   "metadata": {},
   "source": [
    "# Evaluation of the model with the testing data\n",
    "loss, accuracy = model.evaluate(X_test, y_test)\n",
    "\n",
    "print(\"Pérdida:\", loss)\n",
    "print(\"Precisión:\", accuracy)"
   ],
   "outputs": [],
   "execution_count": null
  },
  {
   "cell_type": "markdown",
   "metadata": {},
   "source": "## Predictions of the models and confusion matrix"
  },
  {
   "cell_type": "code",
   "metadata": {},
   "source": [
    "# Prediction of the model with testing data\n",
    "y_pred = model.predict(X_test)\n",
    "y_pred = np.argmax(y_pred, axis=1)\n",
    "\n",
    "# F1-score\n",
    "f1 = f1_score(y_test, y_pred, average='weighted')\n",
    "print(\"F1 Score:\", f1)"
   ],
   "outputs": [],
   "execution_count": null
  },
  {
   "metadata": {},
   "cell_type": "code",
   "source": [
    "# Confusion matrix\n",
    "cm = confusion_matrix(y_test, y_pred)\n",
    "\n",
    "# Assuming 'class_names' is a list containing your class labels\n",
    "# class_names = [\"Acrocephalus arundinaceus\", \"Acrocephalus melanopogon\", \"Acrocephalus scirpaceus\",\n",
    "#                \"Alcedo atthis\", \"Anas platyrhynchos\", \"Anas strepera\", \"Ardea purpurea\",\n",
    "#                \"Botaurus stellaris\", \"Charadrius alexandrinus\", \"Ciconia ciconia\",\n",
    "#                \"Circus aeruginosus\", \"Coracias garrulus\", \"Dendrocopos minor\",\n",
    "#                \"Fulica atra\", \"Gallinula chloropus\", \"Himantopus himantopus\",\n",
    "#                \"Ixobrychus minutus\", \"Motacilla flava\", \"Porphyrio porphyrio\", \"Tachybaptus ruficollis\"]\n",
    "\n",
    "from utils import CLASS_NAMES\n",
    "conf_matrix_df = pd.DataFrame(cm, index=CLASS_NAMES, columns=CLASS_NAMES)\n",
    "\n",
    "# Plot\n",
    "plt.figure(figsize=(10,7))\n",
    "sns.heatmap(conf_matrix_df, annot=True, fmt=\"d\", cmap=\"Blues\", cbar=False)\n",
    "plt.xlabel('Predicted labels')\n",
    "plt.ylabel('True labels')\n",
    "plt.title(\"Confusion Matrix - Deep Learning Model\")\n",
    "plt.show()"
   ],
   "outputs": [],
   "execution_count": null
  },
  {
   "metadata": {},
   "cell_type": "code",
   "source": "",
   "outputs": [],
   "execution_count": null
  }
 ],
 "metadata": {
  "kernelspec": {
   "display_name": "birds",
   "language": "python",
   "name": "python3"
  },
  "language_info": {
   "codemirror_mode": {
    "name": "ipython",
    "version": 3
   },
   "file_extension": ".py",
   "mimetype": "text/x-python",
   "name": "python",
   "nbconvert_exporter": "python",
   "pygments_lexer": "ipython3",
   "version": "3.12.2"
  }
 },
 "nbformat": 4,
 "nbformat_minor": 2
}
